{
 "cells": [
  {
   "cell_type": "code",
   "execution_count": 1,
   "metadata": {},
   "outputs": [],
   "source": [
    "import os\n",
    "import numpy as np\n",
    "import splitfolders\n",
    "import tensorflow as tf\n",
    "import matplotlib.pyplot as plt\n",
    "from PIL import Image\n",
    "from keras.callbacks import EarlyStopping\n",
    "from keras import datasets, layers, models\n",
    "from keras.preprocessing.image import ImageDataGenerator"
   ]
  },
  {
   "cell_type": "markdown",
   "metadata": {},
   "source": [
    "## 파일 나누기"
   ]
  },
  {
   "cell_type": "code",
   "execution_count": 2,
   "metadata": {},
   "outputs": [
    {
     "data": {
      "text/plain": [
       "'c:\\\\Python\\\\GETI'"
      ]
     },
     "execution_count": 2,
     "metadata": {},
     "output_type": "execute_result"
    }
   ],
   "source": [
    "%pwd"
   ]
  },
  {
   "cell_type": "code",
   "execution_count": 3,
   "metadata": {},
   "outputs": [
    {
     "name": "stderr",
     "output_type": "stream",
     "text": [
      "Copying files: 1000 files [00:00, 2280.01 files/s]\n"
     ]
    }
   ],
   "source": [
    "splitfolders.ratio(r'C:\\Users\\LIM\\Downloads\\tomato\\val', './data', seed=1337, ratio = (0.0, 0.8, 0.2))"
   ]
  },
  {
   "cell_type": "code",
   "execution_count": 1,
   "metadata": {},
   "outputs": [
    {
     "data": {
      "text/plain": [
       "52"
      ]
     },
     "execution_count": 1,
     "metadata": {},
     "output_type": "execute_result"
    }
   ],
   "source": [
    "file_path = r'C:\\Users\\LIM\\Downloads\\tomato\\train\\Tomato___healthy'\n",
    "len(file_path)"
   ]
  },
  {
   "cell_type": "markdown",
   "metadata": {},
   "source": [
    "## 모델학습"
   ]
  },
  {
   "cell_type": "code",
   "execution_count": 2,
   "metadata": {},
   "outputs": [],
   "source": [
    "num_epoch=20                 \n",
    "batch_size=32                   \n",
    "learning_rate=0.001               \n",
    "dropout_rate=0.3        \n",
    "input_shape=(128, 128, 3)               \n",
    "num_class=10      "
   ]
  },
  {
   "cell_type": "code",
   "execution_count": 3,
   "metadata": {},
   "outputs": [
    {
     "name": "stdout",
     "output_type": "stream",
     "text": [
      "Found 10000 images belonging to 10 classes.\n",
      "Found 200 images belonging to 10 classes.\n"
     ]
    }
   ],
   "source": [
    "train_dir = r'C:\\Users\\LIM\\Downloads\\tomato\\train'\n",
    "test_dir = './data/test/'\n",
    "\n",
    "train_datagen = ImageDataGenerator (\n",
    "    rescale=1./255,\n",
    "    shear_range=0.2,\n",
    "    zoom_range=0.2,\n",
    "    horizontal_flip=True\n",
    ")\n",
    "test_datagen = ImageDataGenerator(rescale=1./255)\n",
    "\n",
    "# 디렉토리에서 이미지를 불러와 배치로 변환\n",
    "train_generator = train_datagen.flow_from_directory(\n",
    "    train_dir,\n",
    "    target_size=(input_shape[0], input_shape[1]),\n",
    "    batch_size=batch_size,\n",
    "    color_mode='rgb',\n",
    "    class_mode='categorical',\n",
    "    shuffle=True\n",
    ")\n",
    "\n",
    "test_generator = test_datagen.flow_from_directory(\n",
    "    test_dir,\n",
    "    target_size=(input_shape[0], input_shape[1]),\n",
    "    batch_size=batch_size,\n",
    "    color_mode='rgb',\n",
    "    class_mode='categorical',\n",
    "    shuffle=False\n",
    ")             "
   ]
  },
  {
   "cell_type": "code",
   "execution_count": 4,
   "metadata": {},
   "outputs": [],
   "source": [
    "# 합성곱 연산층\n",
    "model = models.Sequential()\n",
    "\n",
    "model.add(layers.Conv2D(128, (3,3), activation = 'relu', input_shape = input_shape))\n",
    "model.add(layers.MaxPooling2D((2,2)))\n",
    "model.add(layers.Dropout(dropout_rate))\n",
    "model.add(layers.Conv2D(64, (3,3), activation = 'relu'))\n",
    "model.add(layers.MaxPooling2D((2,2)))\n",
    "model.add(layers.Dropout(dropout_rate))\n",
    "model.add(layers.Conv2D(32, (3,3), activation = 'relu'))\n",
    "model.add(layers.MaxPooling2D((2,2)))\n",
    "model.add(layers.Dropout(dropout_rate))\n",
    "\n",
    "# 가중치 업데이트\n",
    "model.add(layers.Flatten())\n",
    "model.add(layers.Dense(64, activation = 'relu'))\n",
    "model.add(layers.Dropout(dropout_rate))\n",
    "model.add(layers.Dense(num_class, activation = 'softmax'))"
   ]
  },
  {
   "cell_type": "markdown",
   "metadata": {},
   "source": [
    "# 수정\n",
    "- 학습률을 올리기위해 합성곱 연산층 레이어 추가 및 수정"
   ]
  },
  {
   "cell_type": "code",
   "execution_count": 5,
   "metadata": {},
   "outputs": [],
   "source": [
    "# monitor = 모니터링 할 지표 선택\n",
    "# patience = 지정된 epochs 동안 개선 없을 경우 중단\n",
    "# restore = 훈련 중단 시 가장 좋은 가중치로 변환\n",
    "early_stopping = EarlyStopping(monitor = 'val_loss', patience = 3, restore_best_weights=True)\n",
    "\n",
    "model.compile(optimizer = tf.optimizers.Adam(learning_rate),\n",
    "              loss = 'categorical_crossentropy',\n",
    "              metrics = ['acc'])"
   ]
  },
  {
   "cell_type": "markdown",
   "metadata": {},
   "source": [
    "## 모델학습"
   ]
  },
  {
   "cell_type": "code",
   "execution_count": 6,
   "metadata": {},
   "outputs": [
    {
     "name": "stdout",
     "output_type": "stream",
     "text": [
      "Epoch 1/20\n",
      "313/313 [==============================] - 275s 876ms/step - loss: 2.1025 - acc: 0.2100 - val_loss: 1.8076 - val_acc: 0.4000\n",
      "Epoch 2/20\n",
      "313/313 [==============================] - 259s 828ms/step - loss: 1.6952 - acc: 0.3791 - val_loss: 1.2929 - val_acc: 0.5300\n",
      "Epoch 3/20\n",
      "313/313 [==============================] - 253s 808ms/step - loss: 1.3233 - acc: 0.5199 - val_loss: 1.1045 - val_acc: 0.6450\n",
      "Epoch 4/20\n",
      "313/313 [==============================] - 251s 801ms/step - loss: 1.1208 - acc: 0.5919 - val_loss: 1.0058 - val_acc: 0.6500\n",
      "Epoch 5/20\n",
      "313/313 [==============================] - 252s 804ms/step - loss: 1.0152 - acc: 0.6306 - val_loss: 1.0298 - val_acc: 0.6300\n",
      "Epoch 6/20\n",
      "313/313 [==============================] - 252s 804ms/step - loss: 0.9709 - acc: 0.6459 - val_loss: 0.7977 - val_acc: 0.7300\n",
      "Epoch 7/20\n",
      "313/313 [==============================] - 234s 747ms/step - loss: 0.8679 - acc: 0.6836 - val_loss: 0.6868 - val_acc: 0.7800\n",
      "Epoch 8/20\n",
      "313/313 [==============================] - 220s 703ms/step - loss: 0.7909 - acc: 0.7096 - val_loss: 0.7227 - val_acc: 0.7550\n",
      "Epoch 9/20\n",
      "313/313 [==============================] - 220s 704ms/step - loss: 0.7669 - acc: 0.7221 - val_loss: 0.6189 - val_acc: 0.8050\n",
      "Epoch 10/20\n",
      "313/313 [==============================] - 221s 707ms/step - loss: 0.7401 - acc: 0.7327 - val_loss: 0.5472 - val_acc: 0.8250\n",
      "Epoch 11/20\n",
      "313/313 [==============================] - 227s 726ms/step - loss: 0.6874 - acc: 0.7528 - val_loss: 0.7676 - val_acc: 0.7850\n",
      "Epoch 12/20\n",
      "313/313 [==============================] - 220s 704ms/step - loss: 0.6146 - acc: 0.7809 - val_loss: 0.5593 - val_acc: 0.8550\n",
      "Epoch 13/20\n",
      "313/313 [==============================] - 219s 699ms/step - loss: 0.6128 - acc: 0.7824 - val_loss: 0.6435 - val_acc: 0.8100\n"
     ]
    }
   ],
   "source": [
    "history = model.fit(\n",
    "    train_generator,\n",
    "    epochs=num_epoch,\n",
    "    callbacks=early_stopping,\n",
    "    validation_data=test_generator,\n",
    ")"
   ]
  },
  {
   "cell_type": "markdown",
   "metadata": {},
   "source": [
    "## 모델 시각화"
   ]
  },
  {
   "cell_type": "code",
   "execution_count": 9,
   "metadata": {},
   "outputs": [
    {
     "data": {
      "image/png": "[encoded data removed]",
      "text/plain": [
       "<Figure size 640x480 with 1 Axes>"
      ]
     },
     "metadata": {},
     "output_type": "display_data"
    }
   ],
   "source": [
    "import matplotlib as mpl\n",
    "\n",
    "mpl.rcParams['font.family'] = \"Malgun Gothic\"\n",
    "\n",
    "train_acc = history.history['acc']\n",
    "val_acc = history.history['val_acc']\n",
    "val_acc\n",
    "\n",
    "plt.plot(list(range(1, 14)), train_acc, label = 'Train Acc')\n",
    "plt.plot(list(range(1, 14)), val_acc, label = 'Val Acc')\n",
    "plt.title('정확도')\n",
    "plt.xlabel('Epochs')\n",
    "plt.ylabel('Acc')\n",
    "plt.legend()\n",
    "plt.show()"
   ]
  },
  {
   "cell_type": "code",
   "execution_count": 11,
   "metadata": {},
   "outputs": [
    {
     "name": "stdout",
     "output_type": "stream",
     "text": [
      "Found 800 images belonging to 10 classes.\n"
     ]
    }
   ],
   "source": [
    "test_data = test_datagen.flow_from_directory(\n",
    "    \"./data/val/\",\n",
    "    target_size=(input_shape[0], input_shape[1]),\n",
    "    batch_size=batch_size,\n",
    "    color_mode='rgb',\n",
    "    class_mode='categorical',\n",
    "    shuffle=False\n",
    ")      "
   ]
  },
  {
   "cell_type": "code",
   "execution_count": null,
   "metadata": {},
   "outputs": [],
   "source": [
    "test_generator.filenames"
   ]
  },
  {
   "cell_type": "markdown",
   "metadata": {},
   "source": [
    "# 모델 검증"
   ]
  },
  {
   "cell_type": "code",
   "execution_count": 13,
   "metadata": {},
   "outputs": [],
   "source": [
    "# model.predict()\n",
    "y_true = []\n",
    "for filename in test_data.filenames:\n",
    "    if \"Bacterial_spot\" in filename:\n",
    "        y_true.append(0)\n",
    "    elif \"Early_blight\" in filename:\n",
    "        y_true.append(1)\n",
    "    elif \"Late_blight\" in filename:\n",
    "        y_true.append(2)\n",
    "    elif \"Leaf_Mold\" in filename:\n",
    "        y_true.append(3)\n",
    "    elif \"Septoria_leaf_spot\" in filename:\n",
    "        y_true.append(4)\n",
    "    elif \"Spider_mites Two-spotted_spider_mite\" in filename:\n",
    "        y_true.append(5)\n",
    "    elif \"Target_Spot\" in filename:\n",
    "        y_true.append(6)\n",
    "    elif \"Tomato_Yellow_Leaf_Curl_Virus\" in filename:\n",
    "        y_true.append(7)\n",
    "    elif \"Tomato_mosaic_virus\" in filename:\n",
    "        y_true.append(8)\n",
    "    else:\n",
    "        y_true.append(9)"
   ]
  },
  {
   "cell_type": "code",
   "execution_count": 14,
   "metadata": {},
   "outputs": [],
   "source": [
    "import numpy as np\n",
    "from sklearn.metrics import classification_report\n",
    "\n",
    "y_pred = []\n",
    "for pred in model.predict(test_data, verbose=0):\n",
    "    y_pred.append(np.argmax(pred))"
   ]
  },
  {
   "cell_type": "code",
   "execution_count": 15,
   "metadata": {},
   "outputs": [
    {
     "name": "stdout",
     "output_type": "stream",
     "text": [
      "              precision    recall  f1-score   support\n",
      "\n",
      "           0       0.84      0.94      0.89        80\n",
      "           1       0.81      0.76      0.79        80\n",
      "           2       0.88      0.79      0.83        80\n",
      "           3       0.83      0.81      0.82        80\n",
      "           4       0.71      0.71      0.71        80\n",
      "           5       0.71      0.90      0.79        80\n",
      "           6       0.83      0.69      0.75        80\n",
      "           7       0.89      0.82      0.86        80\n",
      "           8       0.96      0.97      0.97        80\n",
      "           9       0.92      0.95      0.93        80\n",
      "\n",
      "    accuracy                           0.83       800\n",
      "   macro avg       0.84      0.83      0.83       800\n",
      "weighted avg       0.84      0.83      0.83       800\n",
      "\n"
     ]
    }
   ],
   "source": [
    "print(classification_report(y_true, y_pred))"
   ]
  },
  {
   "cell_type": "markdown",
   "metadata": {},
   "source": [
    "- precision(정밀도) : 모델이 양성으로 예측한 샘플 중 실제로 양성인 샘플의 비율을 나타냄\n",
    "- recall(재현율) : 실제 양성인 샘플 중 모델이 양성으로 예측한 샘플의 비율을 나타냄\n",
    "- f1-score(f1-점수) : 정밀도와 재현율의 평균, 이는 두 지표간의 균형을 나타냄\n",
    "- support : 각 클래스에 속한 샘플의 수 데이터셋에서 각 클래스의 실제 샘플 수를 나타냄"
   ]
  },
  {
   "cell_type": "code",
   "execution_count": 16,
   "metadata": {},
   "outputs": [
    {
     "name": "stderr",
     "output_type": "stream",
     "text": [
      "c:\\Python\\Python38\\lib\\site-packages\\keras\\src\\engine\\training.py:3000: UserWarning: You are saving your model as an HDF5 file via `model.save()`. This file format is considered legacy. We recommend using instead the native Keras format, e.g. `model.save('my_model.keras')`.\n",
      "  saving_api.save_model(\n"
     ]
    }
   ],
   "source": [
    "model.save('./model.h5')"
   ]
  },
  {
   "cell_type": "code",
   "execution_count": 17,
   "metadata": {},
   "outputs": [],
   "source": [
    "model.save('./model.keras')"
   ]
  },
  {
   "cell_type": "markdown",
   "metadata": {},
   "source": [
    "- UserWarning: You are saving your model as an HDF5 file via `model.save()`. This file format is considered legacy. We recommend using instead the native Keras format, e.g. `model.save('my_model.keras')`. 오류 해결"
   ]
  }
 ],
 "metadata": {
  "kernelspec": {
   "display_name": "Python 3",
   "language": "python",
   "name": "python3"
  },
  "language_info": {
   "codemirror_mode": {
    "name": "ipython",
    "version": 3
   },
   "file_extension": ".py",
   "mimetype": "text/x-python",
   "name": "python",
   "nbconvert_exporter": "python",
   "pygments_lexer": "ipython3",
   "version": "3.8.3"
  }
 },
 "nbformat": 4,
 "nbformat_minor": 2
}
