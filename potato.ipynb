{
 "cells": [
  {
   "cell_type": "markdown",
   "metadata": {},
   "source": [
    "# 감자 질병 모델학습"
   ]
  },
  {
   "cell_type": "code",
   "execution_count": 1,
   "metadata": {},
   "outputs": [],
   "source": [
    "import os\n",
    "import numpy as np\n",
    "import splitfolders\n",
    "import seaborn as sns\n",
    "import tensorflow as tf\n",
    "import matplotlib.pyplot as plt\n",
    "from PIL import Image\n",
    "from keras.callbacks import EarlyStopping\n",
    "from keras import datasets, layers, models\n",
    "from sklearn.metrics import classification_report\n",
    "from keras.preprocessing.image import ImageDataGenerator"
   ]
  },
  {
   "cell_type": "code",
   "execution_count": 17,
   "metadata": {},
   "outputs": [],
   "source": [
    "train_dir = './potato_data/train/'\n",
    "test_dir = './potato_data/test/'\n",
    "val_dir = './potato_data/val/'"
   ]
  },
  {
   "cell_type": "code",
   "execution_count": 16,
   "metadata": {},
   "outputs": [
    {
     "name": "stderr",
     "output_type": "stream",
     "text": [
      "Copying files: 3251 files [00:22, 143.94 files/s]\n"
     ]
    }
   ],
   "source": [
    "splitfolders.ratio(r'C:\\Users\\LIM\\Downloads\\potato_disease\\Training', './potato_data', seed=1337, ratio=(0.7, 0.2, 0.1))"
   ]
  },
  {
   "cell_type": "markdown",
   "metadata": {},
   "source": [
    "# 파일 정리"
   ]
  },
  {
   "cell_type": "code",
   "execution_count": 38,
   "metadata": {},
   "outputs": [
    {
     "data": {
      "image/png": "[encoded data removed]",
      "text/plain": [
       "<Figure size 640x480 with 1 Axes>"
      ]
     },
     "metadata": {},
     "output_type": "display_data"
    }
   ],
   "source": [
    "file_list = os.listdir('./potato_data/test/Early_Blight/')\n",
    "file_list2 = os.listdir('./potato_data/test/Healthy/')\n",
    "file_list3 = os.listdir('./potato_data/test/Late_Blight/')\n",
    "\n",
    "\n",
    "blight = len(file_list)\n",
    "healthy = len(file_list2)\n",
    "Late = len(file_list3)\n",
    "\n",
    "name = ['Early', 'Healthy', 'Late']\n",
    "files = [blight, healthy, Late]\n",
    "\n",
    "plt.bar(name, files, color = ['red', 'green', 'blue'])\n",
    "plt.ylabel('y')\n",
    "plt.title('file')\n",
    "plt.show()"
   ]
  },
  {
   "cell_type": "code",
   "execution_count": 39,
   "metadata": {},
   "outputs": [
    {
     "data": {
      "text/plain": [
       "(260, 163, 226)"
      ]
     },
     "execution_count": 39,
     "metadata": {},
     "output_type": "execute_result"
    }
   ],
   "source": [
    "len(file_list), len(file_list2), len(file_list3)"
   ]
  },
  {
   "cell_type": "code",
   "execution_count": 40,
   "metadata": {},
   "outputs": [],
   "source": [
    "for i in range(97):\n",
    "    os.remove('./potato_data/test/Early_Blight/' + file_list[i])\n",
    "\n",
    "for i in range(63):\n",
    "    os.remove('./potato_data/test/Late_Blight/' + file_list3[i])"
   ]
  },
  {
   "cell_type": "code",
   "execution_count": 43,
   "metadata": {},
   "outputs": [
    {
     "data": {
      "image/png": "[encoded data removed]",
      "text/plain": [
       "<Figure size 640x480 with 1 Axes>"
      ]
     },
     "metadata": {},
     "output_type": "display_data"
    }
   ],
   "source": [
    "file_list = os.listdir('./potato_data/train/Early_Blight/')\n",
    "file_list2 = os.listdir('./potato_data/train/Healthy/')\n",
    "file_list3 = os.listdir('./potato_data/train/Late_Blight/')\n",
    "\n",
    "blight = len(file_list)\n",
    "healthy = len(file_list2)\n",
    "Late = len(file_list3)\n",
    "\n",
    "name = ['Early', 'Healthy', 'Late']\n",
    "files = [blight, healthy, Late]\n",
    "\n",
    "plt.bar(name, files, color = ['red', 'green', 'blue'])\n",
    "plt.ylabel('y')\n",
    "plt.title('file')\n",
    "plt.show()"
   ]
  },
  {
   "cell_type": "code",
   "execution_count": 53,
   "metadata": {},
   "outputs": [],
   "source": [
    "num_epoch=50                 \n",
    "batch_size=32                   \n",
    "learning_rate=0.001               \n",
    "dropout_rate=0.3        \n",
    "input_shape=(256, 256, 3)               \n",
    "num_class=3"
   ]
  },
  {
   "cell_type": "markdown",
   "metadata": {},
   "source": [
    "# 모델 학습"
   ]
  },
  {
   "cell_type": "code",
   "execution_count": 52,
   "metadata": {},
   "outputs": [
    {
     "name": "stdout",
     "output_type": "stream",
     "text": [
      "Found 1713 images belonging to 3 classes.\n",
      "Found 489 images belonging to 3 classes.\n",
      "Found 246 images belonging to 3 classes.\n"
     ]
    }
   ],
   "source": [
    "train_dir = './potato_data/train/'\n",
    "test_dir = './potato_data/test/'\n",
    "val_dir = './potato_data/val/'\n",
    "\n",
    "train_datagen = ImageDataGenerator(\n",
    "    rescale=1./255,\n",
    "    shear_range=0.2,\n",
    "    zoom_range=0.2,\n",
    ")\n",
    "\n",
    "test_datagen = ImageDataGenerator(\n",
    "    rescale=1./255\n",
    ")\n",
    "\n",
    "train_dataset = train_datagen.flow_from_directory(\n",
    "    train_dir,\n",
    "    target_size=(input_shape[:2]),\n",
    "    batch_size=batch_size,\n",
    "    color_mode='rgb',\n",
    "    class_mode='categorical'\n",
    ")\n",
    "\n",
    "test_dataset = train_datagen.flow_from_directory(\n",
    "    test_dir,\n",
    "    target_size=(input_shape[:2]),\n",
    "    batch_size=batch_size,\n",
    "    color_mode='rgb',\n",
    "    class_mode='categorical'\n",
    ")\n",
    "\n",
    "val_dataset = test_datagen.flow_from_directory(\n",
    "    val_dir,\n",
    "    target_size=(input_shape[:2]),\n",
    "    color_mode='rgb',\n",
    "    class_mode='categorical'\n",
    ")"
   ]
  },
  {
   "cell_type": "code",
   "execution_count": 54,
   "metadata": {},
   "outputs": [],
   "source": [
    "model = models.Sequential()\n",
    "\n",
    "model.add(layers.Conv2D(32, (3,3), activation='relu', input_shape=input_shape))\n",
    "# 32 : 레이어에서 생성할 필터(또는 커널)의 개수 각 필터는 입력 이미지에서 특정 특징을 감지하는데 사용\n",
    "# (3,3) : 각 필터의 크기\n",
    "# activation='relu' : 활성화 함수, 음수 값을 0으로 만들어 네트워크를 비선형으로 만들어 줌\n",
    "model.add(layers.MaxPooling2D(2,2))\n",
    "# Maxpooling 레이어를 추가\n",
    "# Maxpooling을 수행할 필터(윈도우)의 크기\n",
    "model.add(layers.Conv2D(64, (3,3), activation='relu'))\n",
    "model.add(layers.MaxPooling2D(2,2))\n",
    "model.add(layers.Conv2D(64, (3,3), activation='relu'))\n",
    "model.add(layers.MaxPooling2D(2,2))\n",
    "model.add(layers.Dropout(dropout_rate))\n",
    "\n",
    "model.add(layers.Flatten())\n",
    "# 다차원의 입력을 1차원으로 평평하게 펼치는 역할\n",
    "model.add(layers.Dense(64, activation='relu'))\n",
    "# Fully Connected 레이어를 추가하는 부분\n",
    "# 64 : 레이어에서 생성 할 뉴런의 갯수\n",
    "model.add(layers.Dense(num_class, activation='softmax'))\n",
    "# 출력레이어를 추가하는 부분\n",
    "# num_class : 출력 레이어의 뉴런 수, 분류하고자 하는 클래스의 갯수\n",
    "# softmax : 각 클래스에 대한 확률 분포를 생성, 다중 클래스 분류 문제"
   ]
  },
  {
   "cell_type": "code",
   "execution_count": 55,
   "metadata": {},
   "outputs": [],
   "source": [
    "early_stopping = EarlyStopping(monitor = 'val_loss', patience = 3, restore_best_weights=True)\n",
    "# patience : 검증 손실이 3번 연속으로 향상되지 않으면 학습 조기종료\n",
    "# restore_best_weights : 조기 종료가 발생한 경우 최상의 성능을 보였을 때의 가중치로 모델을 복원할지 여부를 결정\n",
    "\n",
    "model.compile(optimizer = tf.optimizers.Adam(learning_rate),\n",
    "              loss = 'categorical_crossentropy',\n",
    "              metrics = ['acc'])"
   ]
  },
  {
   "cell_type": "code",
   "execution_count": 56,
   "metadata": {},
   "outputs": [
    {
     "name": "stdout",
     "output_type": "stream",
     "text": [
      "Epoch 1/50\n",
      "54/54 [==============================] - 67s 1s/step - loss: 1.0639 - acc: 0.4437 - val_loss: 0.8676 - val_acc: 0.6301\n",
      "Epoch 2/50\n",
      "54/54 [==============================] - 60s 1s/step - loss: 0.8739 - acc: 0.5949 - val_loss: 0.7263 - val_acc: 0.6870\n",
      "Epoch 3/50\n",
      "54/54 [==============================] - 58s 1s/step - loss: 0.7308 - acc: 0.6853 - val_loss: 0.6269 - val_acc: 0.7561\n",
      "Epoch 4/50\n",
      "54/54 [==============================] - 62s 1s/step - loss: 0.6040 - acc: 0.7542 - val_loss: 0.5163 - val_acc: 0.8049\n",
      "Epoch 5/50\n",
      "54/54 [==============================] - 59s 1s/step - loss: 0.5662 - acc: 0.7712 - val_loss: 0.4743 - val_acc: 0.8293\n",
      "Epoch 6/50\n",
      "54/54 [==============================] - 60s 1s/step - loss: 0.4125 - acc: 0.8365 - val_loss: 0.4594 - val_acc: 0.8171\n",
      "Epoch 7/50\n",
      "54/54 [==============================] - 55s 1s/step - loss: 0.4365 - acc: 0.8336 - val_loss: 0.5720 - val_acc: 0.7439\n",
      "Epoch 8/50\n",
      "54/54 [==============================] - 53s 970ms/step - loss: 0.3230 - acc: 0.8698 - val_loss: 0.3617 - val_acc: 0.8780\n",
      "Epoch 9/50\n",
      "54/54 [==============================] - 53s 978ms/step - loss: 0.2818 - acc: 0.8926 - val_loss: 0.6757 - val_acc: 0.8089\n",
      "Epoch 10/50\n",
      "54/54 [==============================] - 53s 974ms/step - loss: 0.2862 - acc: 0.8938 - val_loss: 0.3452 - val_acc: 0.8537\n",
      "Epoch 11/50\n",
      "54/54 [==============================] - 52s 954ms/step - loss: 0.2642 - acc: 0.8984 - val_loss: 0.2826 - val_acc: 0.8902\n",
      "Epoch 12/50\n",
      "54/54 [==============================] - 53s 980ms/step - loss: 0.2214 - acc: 0.9259 - val_loss: 0.2791 - val_acc: 0.8862\n",
      "Epoch 13/50\n",
      "54/54 [==============================] - 54s 992ms/step - loss: 0.1960 - acc: 0.9253 - val_loss: 0.3335 - val_acc: 0.8943\n",
      "Epoch 14/50\n",
      "54/54 [==============================] - 54s 989ms/step - loss: 0.1790 - acc: 0.9346 - val_loss: 0.2598 - val_acc: 0.9106\n",
      "Epoch 15/50\n",
      "54/54 [==============================] - 53s 972ms/step - loss: 0.1691 - acc: 0.9375 - val_loss: 0.2488 - val_acc: 0.8984\n",
      "Epoch 16/50\n",
      "54/54 [==============================] - 57s 1s/step - loss: 0.1944 - acc: 0.9253 - val_loss: 0.2459 - val_acc: 0.9187\n",
      "Epoch 17/50\n",
      "54/54 [==============================] - 56s 1s/step - loss: 0.1119 - acc: 0.9644 - val_loss: 0.2429 - val_acc: 0.9268\n",
      "Epoch 18/50\n",
      "54/54 [==============================] - 68s 1s/step - loss: 0.1224 - acc: 0.9562 - val_loss: 0.1794 - val_acc: 0.9350\n",
      "Epoch 19/50\n",
      "54/54 [==============================] - 70s 1s/step - loss: 0.1284 - acc: 0.9451 - val_loss: 0.2353 - val_acc: 0.9309\n",
      "Epoch 20/50\n",
      "54/54 [==============================] - 56s 1s/step - loss: 0.1018 - acc: 0.9685 - val_loss: 0.2656 - val_acc: 0.9228\n",
      "Epoch 21/50\n",
      "54/54 [==============================] - 51s 937ms/step - loss: 0.0985 - acc: 0.9673 - val_loss: 0.1982 - val_acc: 0.9431\n"
     ]
    }
   ],
   "source": [
    "history = model.fit(\n",
    "    train_dataset,\n",
    "    epochs=num_epoch,\n",
    "    callbacks=early_stopping,\n",
    "    validation_data=val_dataset\n",
    ")"
   ]
  },
  {
   "cell_type": "markdown",
   "metadata": {},
   "source": [
    "# 모델 시각화"
   ]
  },
  {
   "cell_type": "code",
   "execution_count": 62,
   "metadata": {},
   "outputs": [
    {
     "data": {
      "image/png": "[encoded data removed]",
      "text/plain": [
       "<Figure size 1200x500 with 2 Axes>"
      ]
     },
     "metadata": {},
     "output_type": "display_data"
    }
   ],
   "source": [
    "plt.rcParams['font.family'] = 'Malgun Gothic'\n",
    "\n",
    "epochs = history.epoch\n",
    "train_acc = history.history['acc']\n",
    "val_acc = history.history['val_acc']\n",
    "\n",
    "plt.figure(figsize=(12, 5))\n",
    "plt.subplot(1, 2, 1)\n",
    "plt.plot(epochs, train_acc, label = 'Train Acc')\n",
    "plt.plot(epochs, val_acc, label = 'Val Acc')\n",
    "plt.title('정확도')\n",
    "plt.xlabel('epochs')\n",
    "plt.ylabel('Acc')\n",
    "plt.legend()\n",
    "\n",
    "train_acc = history.history['loss']\n",
    "val_acc = history.history['val_loss']\n",
    "\n",
    "plt.subplot(1, 2, 2)\n",
    "plt.plot(epochs, train_acc, label = 'Train loss')\n",
    "plt.plot(epochs, val_acc, label = 'Val Loss')\n",
    "plt.title('손실값')\n",
    "plt.xlabel('epochs')\n",
    "plt.ylabel('loss')\n",
    "plt.legend()\n",
    "\n",
    "plt.show()\n"
   ]
  },
  {
   "cell_type": "markdown",
   "metadata": {},
   "source": [
    "# 모델 검증"
   ]
  },
  {
   "cell_type": "code",
   "execution_count": 67,
   "metadata": {},
   "outputs": [
    {
     "name": "stdout",
     "output_type": "stream",
     "text": [
      "Found 489 images belonging to 3 classes.\n"
     ]
    }
   ],
   "source": [
    "test_data = test_datagen.flow_from_directory(\n",
    "    \"./potato_data/test/\",\n",
    "    target_size=(input_shape[0], input_shape[1]),\n",
    "    batch_size=batch_size,\n",
    "    color_mode='rgb',\n",
    "    class_mode='categorical',\n",
    "    shuffle=False\n",
    ")"
   ]
  },
  {
   "cell_type": "markdown",
   "metadata": {},
   "source": [
    "[early, heal, late] -> argmax -> 0"
   ]
  },
  {
   "cell_type": "markdown",
   "metadata": {},
   "source": [
    "# 실제 값 생성"
   ]
  },
  {
   "cell_type": "code",
   "execution_count": 75,
   "metadata": {},
   "outputs": [],
   "source": [
    "# y_true = []\n",
    "\n",
    "# for filename in test_data.filenames:\n",
    "#     if \"Early_Blight\" in filename:\n",
    "#         y_true.append(0)\n",
    "#     elif \"Healthy\" in filename:\n",
    "#         y_true.append(1)\n",
    "#     else:\n",
    "#         y_true.append(2)"
   ]
  },
  {
   "cell_type": "code",
   "execution_count": 90,
   "metadata": {},
   "outputs": [],
   "source": [
    "y_true = test_data.classes"
   ]
  },
  {
   "cell_type": "markdown",
   "metadata": {},
   "source": [
    "- 데이터셋의 클래스 또는 레이블을 나타내는 속성"
   ]
  },
  {
   "cell_type": "markdown",
   "metadata": {},
   "source": [
    "[\n",
    "    [1.0, 0.0, 0.0], -> 0\n",
    "    [0.9, 0.05, 0.05], -> 0\n",
    "    ...\n",
    "    ...\n",
    "    [0.7, 0.2, 0.1] -> 0\n",
    "] => model.predict\n",
    "\n",
    "[0, 0, 0, .... , 2] \n",
    "[0, 0, 0, .... , 1]"
   ]
  },
  {
   "cell_type": "markdown",
   "metadata": {},
   "source": [
    "# 값 검증"
   ]
  },
  {
   "cell_type": "code",
   "execution_count": 71,
   "metadata": {},
   "outputs": [],
   "source": [
    "import numpy as np\n",
    "from sklearn.metrics import classification_report\n",
    "\n",
    "y_pred = []\n",
    "for pred in model.predict(test_data, verbose=0):\n",
    "    y_pred.append(np.argmax(pred))"
   ]
  },
  {
   "cell_type": "code",
   "execution_count": 91,
   "metadata": {},
   "outputs": [
    {
     "name": "stdout",
     "output_type": "stream",
     "text": [
      "              precision    recall  f1-score   support\n",
      "\n",
      "           0       0.91      0.93      0.92       163\n",
      "           1       0.96      0.92      0.94       163\n",
      "           2       0.93      0.94      0.94       163\n",
      "\n",
      "    accuracy                           0.93       489\n",
      "   macro avg       0.93      0.93      0.93       489\n",
      "weighted avg       0.93      0.93      0.93       489\n",
      "\n"
     ]
    }
   ],
   "source": [
    "print(classification_report(y_true, y_pred))"
   ]
  }
 ],
 "metadata": {
  "kernelspec": {
   "display_name": "Python 3",
   "language": "python",
   "name": "python3"
  },
  "language_info": {
   "codemirror_mode": {
    "name": "ipython",
    "version": 3
   },
   "file_extension": ".py",
   "mimetype": "text/x-python",
   "name": "python",
   "nbconvert_exporter": "python",
   "pygments_lexer": "ipython3",
   "version": "3.8.3"
  }
 },
 "nbformat": 4,
 "nbformat_minor": 2
}
